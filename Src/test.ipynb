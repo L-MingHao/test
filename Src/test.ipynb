{
 "cells": [
  {
   "cell_type": "code",
   "execution_count": 1,
   "metadata": {
    "collapsed": true,
    "pycharm": {
     "is_executing": false
    }
   },
   "outputs": [],
   "source": [
    "import os\n",
    "import sys\n",
    "import matplotlib.pyplot as plt\n",
    "import random\n",
    "import argparse\n",
    "\n",
    "import numpy as np\n",
    "import pandas as pd\n",
    "import torch\n",
    "\n",
    "if os.path.abspath('..') not in sys.path:\n",
    "    sys.path.insert(0, os.path.abspath('..'))\n",
    "\n",
    "if os.path.abspath('../..') not in sys.path:\n",
    "    sys.path.insert(0, os.path.abspath('../..'))\n",
    "from Evaluate.evaluate import *\n",
    "\n",
    "from utils.processing import crop\n",
    "from utils.heatmap_generator import HeatmapGenerator\n",
    "from NetworkTrainer.network_trainer import *\n",
    "from DataLoader.dataloader_IVDsegmentation import landmark_extractor\n",
    "from DataLoader.dataloader_Vertebraesegmentation import crop_to_center\n",
    "from DataLoader.dataloader_Vertebraesegmentation import train_transform"
   ]
  },
  {
   "cell_type": "code",
   "execution_count": 2,
   "outputs": [
    {
     "data": {
      "text/plain": "'Case2'"
     },
     "metadata": {},
     "output_type": "execute_result",
     "execution_count": 2
    }
   ],
   "source": [
    "case_id = 'G:/脊柱分割/Spine_Segmentation/Spine_Segmentation/Case2'\n",
    "name = case_id.split(\"/\")\n",
    "name[-1]"
   ],
   "metadata": {
    "collapsed": false,
    "pycharm": {
     "name": "#%%\n",
     "is_executing": false
    }
   }
  }
 ],
 "metadata": {
  "kernelspec": {
   "display_name": "Python 3",
   "language": "python",
   "name": "python3"
  },
  "language_info": {
   "codemirror_mode": {
    "name": "ipython",
    "version": 2
   },
   "file_extension": ".py",
   "mimetype": "text/x-python",
   "name": "python",
   "nbconvert_exporter": "python",
   "pygments_lexer": "ipython2",
   "version": "2.7.6"
  },
  "pycharm": {
   "stem_cell": {
    "cell_type": "raw",
    "source": [],
    "metadata": {
     "collapsed": false
    }
   }
  }
 },
 "nbformat": 4,
 "nbformat_minor": 0
}