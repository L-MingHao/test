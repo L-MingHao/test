{
 "cells": [
  {
   "cell_type": "code",
   "execution_count": 10,
   "metadata": {
    "collapsed": true
   },
   "outputs": [
    {
     "data": {
      "text/plain": "['Case116',\n 'Case134',\n 'Case133',\n 'Case130',\n 'Case144',\n 'Case110',\n 'Case145',\n 'Case178',\n 'Case16',\n 'Case177',\n 'Case79',\n 'Case198',\n 'Case78',\n 'Case158',\n 'Case6',\n 'Case215',\n 'Case212',\n 'Case188',\n 'Case199',\n 'Case81',\n 'Case48',\n 'Case154']"
     },
     "execution_count": 10,
     "metadata": {},
     "output_type": "execute_result"
    }
   ],
   "source": [
    "import os\n",
    "import SimpleITK as sitk\n",
    "import numpy as np\n",
    "import pandas as pd\n",
    "import matplotlib.pyplot as plt\n",
    "import argparse\n",
    "from NetworkTrainer.network_trainer import *\n",
    "import torch\n",
    "from Evaluate.evaluate import *\n",
    "#from SVVNet.IVDSegmentation.test import copy_sitk_imageinfo\n",
    "from utils.processing import resize_sitk_image\n",
    "from utils.tools import csv_to_catalogue\n",
    "\n",
    "#csv_path = '../../Catalogue' + '/' + str(args.catalogue) + '.csv'\n",
    "#csv_path = 'Catalogue' + '/' + '0.csv'\n",
    "#catalogue = csv_to_catalogue(csv_path)\n",
    "#cases = catalogue['test'].dropna()\n",
    "list_case_dirs = dict()\n",
    "cases = os.listdir('/home/minghao/Desktop/Output/Vertebrae_Segmentation/Prediction')\n",
    "cases"
   ]
  },
  {
   "cell_type": "code",
   "execution_count": 11,
   "outputs": [],
   "source": [
    "data_path = '/home/minghao/Desktop/Spine_Segmentation'\n",
    "save_path = '/home/minghao/Desktop/Output/Joint'\n",
    "\n",
    "if not os.path.exists(save_path):\n",
    "    os.mkdir(save_path)"
   ],
   "metadata": {
    "collapsed": false,
    "pycharm": {
     "name": "#%%\n"
    }
   }
  },
  {
   "cell_type": "code",
   "execution_count": 12,
   "outputs": [],
   "source": [
    "Coccyx_path = '/home/minghao/Desktop/Output/Coccyx_Segmentation/Prediction'\n",
    "list_case_dirs['Coccyx'] = [os.path.join(Coccyx_path, cases[i]) for i in range(len(cases))]"
   ],
   "metadata": {
    "collapsed": false,
    "pycharm": {
     "name": "#%%\n"
    }
   }
  },
  {
   "cell_type": "code",
   "execution_count": 13,
   "outputs": [
    {
     "data": {
      "text/plain": "['/home/minghao/Desktop/Output/Coccyx_Segmentation/Prediction/Case116',\n '/home/minghao/Desktop/Output/Coccyx_Segmentation/Prediction/Case134',\n '/home/minghao/Desktop/Output/Coccyx_Segmentation/Prediction/Case133',\n '/home/minghao/Desktop/Output/Coccyx_Segmentation/Prediction/Case130',\n '/home/minghao/Desktop/Output/Coccyx_Segmentation/Prediction/Case144',\n '/home/minghao/Desktop/Output/Coccyx_Segmentation/Prediction/Case110',\n '/home/minghao/Desktop/Output/Coccyx_Segmentation/Prediction/Case145',\n '/home/minghao/Desktop/Output/Coccyx_Segmentation/Prediction/Case178',\n '/home/minghao/Desktop/Output/Coccyx_Segmentation/Prediction/Case16',\n '/home/minghao/Desktop/Output/Coccyx_Segmentation/Prediction/Case177',\n '/home/minghao/Desktop/Output/Coccyx_Segmentation/Prediction/Case79',\n '/home/minghao/Desktop/Output/Coccyx_Segmentation/Prediction/Case198',\n '/home/minghao/Desktop/Output/Coccyx_Segmentation/Prediction/Case78',\n '/home/minghao/Desktop/Output/Coccyx_Segmentation/Prediction/Case158',\n '/home/minghao/Desktop/Output/Coccyx_Segmentation/Prediction/Case6',\n '/home/minghao/Desktop/Output/Coccyx_Segmentation/Prediction/Case215',\n '/home/minghao/Desktop/Output/Coccyx_Segmentation/Prediction/Case212',\n '/home/minghao/Desktop/Output/Coccyx_Segmentation/Prediction/Case188',\n '/home/minghao/Desktop/Output/Coccyx_Segmentation/Prediction/Case199',\n '/home/minghao/Desktop/Output/Coccyx_Segmentation/Prediction/Case81',\n '/home/minghao/Desktop/Output/Coccyx_Segmentation/Prediction/Case48',\n '/home/minghao/Desktop/Output/Coccyx_Segmentation/Prediction/Case154']"
     },
     "execution_count": 13,
     "metadata": {},
     "output_type": "execute_result"
    }
   ],
   "source": [
    "list_case_dirs['Coccyx']"
   ],
   "metadata": {
    "collapsed": false,
    "pycharm": {
     "name": "#%%\n"
    }
   }
  },
  {
   "cell_type": "code",
   "execution_count": 14,
   "outputs": [],
   "source": [
    "IVD_path = '/home/minghao/Desktop/Output/IVD_Segmentation/Prediction'\n",
    "list_case_dirs['IVD'] = [os.path.join(IVD_path, cases[i]) for i in range(len(cases))]"
   ],
   "metadata": {
    "collapsed": false,
    "pycharm": {
     "name": "#%%\n"
    }
   }
  },
  {
   "cell_type": "code",
   "execution_count": 15,
   "outputs": [
    {
     "data": {
      "text/plain": "['/home/minghao/Desktop/Output/IVD_Segmentation/Prediction/Case116',\n '/home/minghao/Desktop/Output/IVD_Segmentation/Prediction/Case134',\n '/home/minghao/Desktop/Output/IVD_Segmentation/Prediction/Case133',\n '/home/minghao/Desktop/Output/IVD_Segmentation/Prediction/Case130',\n '/home/minghao/Desktop/Output/IVD_Segmentation/Prediction/Case144',\n '/home/minghao/Desktop/Output/IVD_Segmentation/Prediction/Case110',\n '/home/minghao/Desktop/Output/IVD_Segmentation/Prediction/Case145',\n '/home/minghao/Desktop/Output/IVD_Segmentation/Prediction/Case178',\n '/home/minghao/Desktop/Output/IVD_Segmentation/Prediction/Case16',\n '/home/minghao/Desktop/Output/IVD_Segmentation/Prediction/Case177',\n '/home/minghao/Desktop/Output/IVD_Segmentation/Prediction/Case79',\n '/home/minghao/Desktop/Output/IVD_Segmentation/Prediction/Case198',\n '/home/minghao/Desktop/Output/IVD_Segmentation/Prediction/Case78',\n '/home/minghao/Desktop/Output/IVD_Segmentation/Prediction/Case158',\n '/home/minghao/Desktop/Output/IVD_Segmentation/Prediction/Case6',\n '/home/minghao/Desktop/Output/IVD_Segmentation/Prediction/Case215',\n '/home/minghao/Desktop/Output/IVD_Segmentation/Prediction/Case212',\n '/home/minghao/Desktop/Output/IVD_Segmentation/Prediction/Case188',\n '/home/minghao/Desktop/Output/IVD_Segmentation/Prediction/Case199',\n '/home/minghao/Desktop/Output/IVD_Segmentation/Prediction/Case81',\n '/home/minghao/Desktop/Output/IVD_Segmentation/Prediction/Case48',\n '/home/minghao/Desktop/Output/IVD_Segmentation/Prediction/Case154']"
     },
     "execution_count": 15,
     "metadata": {},
     "output_type": "execute_result"
    }
   ],
   "source": [
    "list_case_dirs['IVD']"
   ],
   "metadata": {
    "collapsed": false,
    "pycharm": {
     "name": "#%%\n"
    }
   }
  },
  {
   "cell_type": "code",
   "execution_count": 16,
   "outputs": [],
   "source": [
    "Vertebrae_path = '/home/minghao/Desktop/Output/Vertebrae_Segmentation/Prediction'\n",
    "list_case_dirs['Vertebrae'] = [os.path.join(Vertebrae_path, cases[i]) for i in range(len(cases))]\n"
   ],
   "metadata": {
    "collapsed": false,
    "pycharm": {
     "name": "#%%\n"
    }
   }
  },
  {
   "cell_type": "code",
   "execution_count": 17,
   "outputs": [],
   "source": [
    "def copy_sitk_imageinfo(image1, image2):\n",
    "    image2.SetSpacing(image1.GetSpacing())\n",
    "    image2.SetDirection(image1.GetDirection())\n",
    "    image2.SetOrigin(image1.GetOrigin())\n",
    "\n",
    "    return image2\n",
    "\n",
    "def landmark_extractor(landmarks):\n",
    "    \"\"\"\n",
    "    return a list of the landmarks\n",
    "    :param landmarks: pandas.Dataframe\n",
    "    \"\"\"\n",
    "    labels = landmarks.columns[1:].tolist()  # exclude the 'axis' column\n",
    "    list_landmarks = []\n",
    "    for label in labels:\n",
    "        list_landmarks.append(np.array(landmarks[label]))\n",
    "\n",
    "    return list_landmarks"
   ],
   "metadata": {
    "collapsed": false,
    "pycharm": {
     "name": "#%%\n"
    }
   }
  },
  {
   "cell_type": "code",
   "execution_count": 18,
   "outputs": [
    {
     "ename": "KeyboardInterrupt",
     "evalue": "",
     "output_type": "error",
     "traceback": [
      "\u001b[0;31m---------------------------------------------------------------------------\u001b[0m",
      "\u001b[0;31mKeyboardInterrupt\u001b[0m                         Traceback (most recent call last)",
      "\u001b[0;32m<ipython-input-18-2b5bc1ae7f17>\u001b[0m in \u001b[0;36m<module>\u001b[0;34m\u001b[0m\n\u001b[1;32m     40\u001b[0m         \u001b[0mlable1_array\u001b[0m\u001b[0;34m.\u001b[0m\u001b[0mappend\u001b[0m\u001b[0;34m(\u001b[0m\u001b[0marray\u001b[0m\u001b[0;34m)\u001b[0m\u001b[0;34m\u001b[0m\u001b[0;34m\u001b[0m\u001b[0m\n\u001b[1;32m     41\u001b[0m     \u001b[0;32mfor\u001b[0m \u001b[0mi\u001b[0m \u001b[0;32min\u001b[0m \u001b[0mrange\u001b[0m\u001b[0;34m(\u001b[0m\u001b[0mlen\u001b[0m\u001b[0;34m(\u001b[0m\u001b[0mlable1_array\u001b[0m\u001b[0;34m)\u001b[0m\u001b[0;34m)\u001b[0m\u001b[0;34m:\u001b[0m\u001b[0;34m\u001b[0m\u001b[0;34m\u001b[0m\u001b[0m\n\u001b[0;32m---> 42\u001b[0;31m         \u001b[0;32mif\u001b[0m \u001b[0mlable1_array\u001b[0m\u001b[0;34m[\u001b[0m\u001b[0mi\u001b[0m\u001b[0;34m]\u001b[0m \u001b[0;32min\u001b[0m \u001b[0mlable2_array\u001b[0m\u001b[0;34m:\u001b[0m\u001b[0;34m\u001b[0m\u001b[0;34m\u001b[0m\u001b[0m\n\u001b[0m\u001b[1;32m     43\u001b[0m             \u001b[0mintersection\u001b[0m\u001b[0;34m.\u001b[0m\u001b[0mappend\u001b[0m\u001b[0;34m(\u001b[0m\u001b[0mlable1_array\u001b[0m\u001b[0;34m[\u001b[0m\u001b[0mi\u001b[0m\u001b[0;34m]\u001b[0m\u001b[0;34m)\u001b[0m\u001b[0;34m\u001b[0m\u001b[0;34m\u001b[0m\u001b[0m\n\u001b[1;32m     44\u001b[0m \u001b[0;34m\u001b[0m\u001b[0m\n",
      "\u001b[0;31mKeyboardInterrupt\u001b[0m: "
     ]
    }
   ],
   "source": [
    "dict_images = dict()\n",
    "lable1_array = []\n",
    "lable2_array = []\n",
    "intersection = []\n",
    "files_name = ['Coccyx', 'IVD','Vertebrae']\n",
    "joint = []\n",
    "S = (12,512,512)\n",
    "\n",
    "for num in  range(len(cases)):\n",
    "    Joint_nii = np.zeros(S)\n",
    "\n",
    "    pre_Coccyx = sitk.ReadImage(list_case_dirs[files_name[0]][num] + '/' + 'pred_' + files_name[0] + 'Mask.nii.gz', sitk.sitkFloat32)\n",
    "    pre_Coccyx = sitk.GetArrayFromImage(pre_Coccyx)\n",
    "\n",
    "    pre_IVD = sitk.ReadImage(list_case_dirs[files_name[1]][num] + '/' + 'pred_' + files_name[1] + 'Mask.nii.gz', sitk.sitkFloat32)\n",
    "    pre_IVD = sitk.GetArrayFromImage(pre_IVD)\n",
    "\n",
    "    pre_Vertebrae = sitk.ReadImage(list_case_dirs[files_name[2]][num] + '/' + 'pred_' + files_name[2] + 'Mask.nii.gz', sitk.sitkFloat32)\n",
    "    pre_Vertebrae = sitk.GetArrayFromImage(pre_Vertebrae)\n",
    "\n",
    "    landmark = pd.read_csv(data_path + '/'+ cases[num] + '/landmarks_512.csv')\n",
    "    landmarks = landmark_extractor(landmark)\n",
    "\n",
    "    temp = pre_IVD + pre_Vertebrae\n",
    "\n",
    "    lable_2 = np.where(temp == 2)\n",
    "    for i in range(len(lable_2[0])):\n",
    "        array = []\n",
    "        array.append(lable_2[0][i])\n",
    "        array.append(lable_2[1][i])\n",
    "        array.append(lable_2[2][i])\n",
    "        lable2_array.append(array)\n",
    "\n",
    "    lable_1 = np.where(pre_Coccyx == 1)\n",
    "    for i in range(len(lable_1[0])):\n",
    "        array = []\n",
    "        array.append(lable_1[0][i])\n",
    "        array.append(lable_1[1][i])\n",
    "        array.append(lable_1[2][i])\n",
    "        lable1_array.append(array)\n",
    "        \n",
    "    for i in range(len(lable1_array)):\n",
    "        if lable1_array[i] in lable2_array:\n",
    "            intersection.append(lable1_array[i])\n",
    "\n",
    "\n",
    "    Joint_nii = pre_Coccyx + temp\n",
    "    for i in range(len(intersection)):\n",
    "        np.put(Joint_nii,intersection[i],2)\n",
    "\n",
    "\n",
    "    template_nii = sitk.ReadImage(data_path + '/' + cases[num] + '/MR_512.nii.gz')\n",
    "    Joint_nii = sitk.GetImageFromArray(Joint_nii)\n",
    "    Joint_nii = copy_sitk_imageinfo(template_nii, Joint_nii)\n",
    "    if not os.path.exists(save_path + '/' + cases[num]):\n",
    "            os.mkdir(save_path + '/' + cases[num])\n",
    "    sitk.WriteImage(Joint_nii, save_path + '/' + cases[num] + '/pred_JointMask.nii.gz')\n",
    "print('Done')"
   ],
   "metadata": {
    "collapsed": false,
    "pycharm": {
     "name": "#%%\n"
    }
   }
  },
  {
   "cell_type": "code",
   "execution_count": null,
   "outputs": [],
   "source": [
    "Joint_path = '/home/minghao/Desktop/Output/Joint'\n",
    "\n",
    "list_case_dirs['Joint'] = [os.path.join(Joint_path, cases[i]) for i in range(len(cases))]\n",
    "dscs = []\n",
    "for case_dir in range(len(list_case_dirs['Joint'])):\n",
    "\n",
    "    gt_mask = sitk.ReadImage(data_path + '/' + cases[case_dir] + '/raw_Mask.nii.gz')\n",
    "    gt = sitk.GetArrayFromImage(gt_mask)\n",
    "    D, H, W = gt.shape\n",
    "\n",
    "    pred_mask = sitk.ReadImage(list_case_dirs['Joint'][case_dir] + '/' + 'pred_JointMask.nii.gz')\n",
    "    pred = resize_sitk_image(pred_mask, dsize=(W, H, None), interpolator='nearest')\n",
    "    pred = sitk.GetArrayFromImage(pred)\n",
    "\n",
    "    dsc = cal_subject_level_dice(pred, gt, num_classes=20)\n",
    "    dscs.append(dsc)"
   ],
   "metadata": {
    "collapsed": false,
    "pycharm": {
     "name": "#%%\n"
    }
   }
  },
  {
   "cell_type": "code",
   "execution_count": null,
   "outputs": [],
   "source": [
    "np.mean(dscs)\n"
   ],
   "metadata": {
    "collapsed": false,
    "pycharm": {
     "name": "#%%\n",
     "is_executing": true
    }
   }
  }
 ],
 "metadata": {
  "kernelspec": {
   "display_name": "Python 3",
   "language": "python",
   "name": "python3"
  },
  "language_info": {
   "codemirror_mode": {
    "name": "ipython",
    "version": 2
   },
   "file_extension": ".py",
   "mimetype": "text/x-python",
   "name": "python",
   "nbconvert_exporter": "python",
   "pygments_lexer": "ipython2",
   "version": "2.7.6"
  },
  "pycharm": {
   "stem_cell": {
    "cell_type": "raw",
    "source": [],
    "metadata": {
     "collapsed": false
    }
   }
  }
 },
 "nbformat": 4,
 "nbformat_minor": 0
}