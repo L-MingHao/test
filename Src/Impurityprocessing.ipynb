{
 "cells": [
  {
   "cell_type": "code",
   "execution_count": 7,
   "outputs": [
    {
     "data": {
      "text/plain": "['Case55',\n 'Case102',\n 'Case66',\n 'Case208',\n 'Case174',\n 'Case38',\n 'Case138',\n 'Case162',\n 'Case61',\n 'Case80',\n 'Case161',\n 'Case83',\n 'Case210',\n 'Case116',\n 'Case134',\n 'Case143',\n 'Case84',\n 'Case142',\n 'Case133',\n 'Case76',\n 'Case10',\n 'Case130',\n 'Case18',\n 'Case121',\n 'Case148',\n 'Case37',\n 'Case159',\n 'Case144',\n 'Case202',\n 'Case32',\n 'Case110',\n 'Case33',\n 'Case176',\n 'Case22',\n 'Case77',\n 'Case136',\n 'Case31',\n 'Case145',\n 'Case129',\n 'Case92',\n 'Case90',\n 'Case64',\n 'Case167',\n 'Case30',\n 'Case150',\n 'Case168',\n 'Case98',\n 'Case175',\n 'Case165',\n 'Case71',\n 'Case184',\n 'Case113',\n 'Case178',\n 'Case190',\n 'Case118',\n 'Case115',\n 'Case73',\n 'Case187',\n 'Case132',\n 'Case85',\n 'Case16',\n 'Case7',\n 'Case177',\n 'Case79',\n 'Case45',\n 'Case87',\n 'Case34',\n 'Case75',\n 'Case198',\n 'Case105',\n 'Case78',\n 'Case182',\n 'Case23',\n 'Case213',\n 'Case12',\n 'Case158',\n 'Case35',\n 'Case181',\n 'Case179',\n 'Case171',\n 'Case93',\n 'Case194',\n 'Case24',\n 'Case20',\n 'Case6',\n 'Case54',\n 'Case88',\n 'Case108',\n 'Case215',\n 'Case27',\n 'Case193',\n 'Case5',\n 'Case106',\n 'Case104',\n 'Case141',\n 'Case109',\n 'Case212',\n 'Case169',\n 'Case197',\n 'Case122',\n 'Case128',\n 'Case156',\n 'Case191',\n 'Case185',\n 'Case137',\n 'Case127',\n 'Case203',\n 'Case196',\n 'Case13',\n 'Case46',\n 'Case69',\n 'Case43',\n 'Case188',\n 'Case59',\n 'Case173',\n 'Case111',\n 'Case26',\n 'Case17',\n 'Case57',\n 'Case36',\n 'Case123',\n 'Case2',\n 'Case120',\n 'Case199',\n 'Case180',\n 'Case62',\n 'Case172',\n 'Case166',\n 'Case103',\n 'Case68',\n 'Case53',\n 'Case81',\n 'Case72',\n 'Case112',\n 'Case149',\n 'Case100',\n 'Case160',\n 'Case140',\n 'Case101',\n 'Case19',\n 'Case170',\n 'Case146',\n 'Case29',\n 'Case41',\n 'Case155',\n 'Case40',\n 'Case25',\n 'Case214',\n 'Case48',\n 'Case107',\n 'Case163',\n 'Case89',\n 'Case56',\n 'Case58',\n 'Case52',\n 'Case205',\n 'Case153',\n 'Case91',\n 'Case67',\n 'Case97',\n 'Case9',\n 'Case186',\n 'Case152',\n 'Case39',\n 'Case204',\n 'Case8',\n 'Case139',\n 'Case14',\n 'Case200',\n 'Case164',\n 'Case154',\n 'Case82']"
     },
     "execution_count": 7,
     "metadata": {},
     "output_type": "execute_result"
    }
   ],
   "source": [
    "import os\n",
    "import sys\n",
    "import matplotlib.pyplot as plt\n",
    "import random\n",
    "import argparse\n",
    "\n",
    "import numpy as np\n",
    "import pandas as pd\n",
    "import torch\n",
    "\n",
    "from utils.tools import csv_to_catalogue\n",
    "\n",
    "if os.path.abspath('..') not in sys.path:\n",
    "    sys.path.insert(0, os.path.abspath('..'))\n",
    "\n",
    "if os.path.abspath('../..') not in sys.path:\n",
    "    sys.path.insert(0, os.path.abspath('../..'))\n",
    "from Evaluate.evaluate import *\n",
    "\n",
    "from utils.processing import crop\n",
    "from utils.heatmap_generator import HeatmapGenerator\n",
    "from NetworkTrainer.network_trainer import *\n",
    "\n",
    "data_path = '/home/minghao/Desktop/Spine_Segmentation'\n",
    "cases = os.listdir(data_path)\n",
    "cases"
   ],
   "metadata": {
    "collapsed": false,
    "pycharm": {
     "name": "#%%\n"
    }
   }
  },
  {
   "cell_type": "code",
   "execution_count": 8,
   "outputs": [
    {
     "data": {
      "text/plain": "['/home/minghao/Desktop/Spine_Segmentation/Case55',\n '/home/minghao/Desktop/Spine_Segmentation/Case102',\n '/home/minghao/Desktop/Spine_Segmentation/Case66',\n '/home/minghao/Desktop/Spine_Segmentation/Case208',\n '/home/minghao/Desktop/Spine_Segmentation/Case174',\n '/home/minghao/Desktop/Spine_Segmentation/Case38',\n '/home/minghao/Desktop/Spine_Segmentation/Case138',\n '/home/minghao/Desktop/Spine_Segmentation/Case162',\n '/home/minghao/Desktop/Spine_Segmentation/Case61',\n '/home/minghao/Desktop/Spine_Segmentation/Case80',\n '/home/minghao/Desktop/Spine_Segmentation/Case161',\n '/home/minghao/Desktop/Spine_Segmentation/Case83',\n '/home/minghao/Desktop/Spine_Segmentation/Case210',\n '/home/minghao/Desktop/Spine_Segmentation/Case116',\n '/home/minghao/Desktop/Spine_Segmentation/Case134',\n '/home/minghao/Desktop/Spine_Segmentation/Case143',\n '/home/minghao/Desktop/Spine_Segmentation/Case84',\n '/home/minghao/Desktop/Spine_Segmentation/Case142',\n '/home/minghao/Desktop/Spine_Segmentation/Case133',\n '/home/minghao/Desktop/Spine_Segmentation/Case76',\n '/home/minghao/Desktop/Spine_Segmentation/Case10',\n '/home/minghao/Desktop/Spine_Segmentation/Case130',\n '/home/minghao/Desktop/Spine_Segmentation/Case18',\n '/home/minghao/Desktop/Spine_Segmentation/Case121',\n '/home/minghao/Desktop/Spine_Segmentation/Case148',\n '/home/minghao/Desktop/Spine_Segmentation/Case37',\n '/home/minghao/Desktop/Spine_Segmentation/Case159',\n '/home/minghao/Desktop/Spine_Segmentation/Case144',\n '/home/minghao/Desktop/Spine_Segmentation/Case202',\n '/home/minghao/Desktop/Spine_Segmentation/Case32',\n '/home/minghao/Desktop/Spine_Segmentation/Case110',\n '/home/minghao/Desktop/Spine_Segmentation/Case33',\n '/home/minghao/Desktop/Spine_Segmentation/Case176',\n '/home/minghao/Desktop/Spine_Segmentation/Case22',\n '/home/minghao/Desktop/Spine_Segmentation/Case77',\n '/home/minghao/Desktop/Spine_Segmentation/Case136',\n '/home/minghao/Desktop/Spine_Segmentation/Case31',\n '/home/minghao/Desktop/Spine_Segmentation/Case145',\n '/home/minghao/Desktop/Spine_Segmentation/Case129',\n '/home/minghao/Desktop/Spine_Segmentation/Case92',\n '/home/minghao/Desktop/Spine_Segmentation/Case90',\n '/home/minghao/Desktop/Spine_Segmentation/Case64',\n '/home/minghao/Desktop/Spine_Segmentation/Case167',\n '/home/minghao/Desktop/Spine_Segmentation/Case30',\n '/home/minghao/Desktop/Spine_Segmentation/Case150',\n '/home/minghao/Desktop/Spine_Segmentation/Case168',\n '/home/minghao/Desktop/Spine_Segmentation/Case98',\n '/home/minghao/Desktop/Spine_Segmentation/Case175',\n '/home/minghao/Desktop/Spine_Segmentation/Case165',\n '/home/minghao/Desktop/Spine_Segmentation/Case71',\n '/home/minghao/Desktop/Spine_Segmentation/Case184',\n '/home/minghao/Desktop/Spine_Segmentation/Case113',\n '/home/minghao/Desktop/Spine_Segmentation/Case178',\n '/home/minghao/Desktop/Spine_Segmentation/Case190',\n '/home/minghao/Desktop/Spine_Segmentation/Case118',\n '/home/minghao/Desktop/Spine_Segmentation/Case115',\n '/home/minghao/Desktop/Spine_Segmentation/Case73',\n '/home/minghao/Desktop/Spine_Segmentation/Case187',\n '/home/minghao/Desktop/Spine_Segmentation/Case132',\n '/home/minghao/Desktop/Spine_Segmentation/Case85',\n '/home/minghao/Desktop/Spine_Segmentation/Case16',\n '/home/minghao/Desktop/Spine_Segmentation/Case7',\n '/home/minghao/Desktop/Spine_Segmentation/Case177',\n '/home/minghao/Desktop/Spine_Segmentation/Case79',\n '/home/minghao/Desktop/Spine_Segmentation/Case45',\n '/home/minghao/Desktop/Spine_Segmentation/Case87',\n '/home/minghao/Desktop/Spine_Segmentation/Case34',\n '/home/minghao/Desktop/Spine_Segmentation/Case75',\n '/home/minghao/Desktop/Spine_Segmentation/Case198',\n '/home/minghao/Desktop/Spine_Segmentation/Case105',\n '/home/minghao/Desktop/Spine_Segmentation/Case78',\n '/home/minghao/Desktop/Spine_Segmentation/Case182',\n '/home/minghao/Desktop/Spine_Segmentation/Case23',\n '/home/minghao/Desktop/Spine_Segmentation/Case213',\n '/home/minghao/Desktop/Spine_Segmentation/Case12',\n '/home/minghao/Desktop/Spine_Segmentation/Case158',\n '/home/minghao/Desktop/Spine_Segmentation/Case35',\n '/home/minghao/Desktop/Spine_Segmentation/Case181',\n '/home/minghao/Desktop/Spine_Segmentation/Case179',\n '/home/minghao/Desktop/Spine_Segmentation/Case171',\n '/home/minghao/Desktop/Spine_Segmentation/Case93',\n '/home/minghao/Desktop/Spine_Segmentation/Case194',\n '/home/minghao/Desktop/Spine_Segmentation/Case24',\n '/home/minghao/Desktop/Spine_Segmentation/Case20',\n '/home/minghao/Desktop/Spine_Segmentation/Case6',\n '/home/minghao/Desktop/Spine_Segmentation/Case54',\n '/home/minghao/Desktop/Spine_Segmentation/Case88',\n '/home/minghao/Desktop/Spine_Segmentation/Case108',\n '/home/minghao/Desktop/Spine_Segmentation/Case215',\n '/home/minghao/Desktop/Spine_Segmentation/Case27',\n '/home/minghao/Desktop/Spine_Segmentation/Case193',\n '/home/minghao/Desktop/Spine_Segmentation/Case5',\n '/home/minghao/Desktop/Spine_Segmentation/Case106',\n '/home/minghao/Desktop/Spine_Segmentation/Case104',\n '/home/minghao/Desktop/Spine_Segmentation/Case141',\n '/home/minghao/Desktop/Spine_Segmentation/Case109',\n '/home/minghao/Desktop/Spine_Segmentation/Case212',\n '/home/minghao/Desktop/Spine_Segmentation/Case169',\n '/home/minghao/Desktop/Spine_Segmentation/Case197',\n '/home/minghao/Desktop/Spine_Segmentation/Case122',\n '/home/minghao/Desktop/Spine_Segmentation/Case128',\n '/home/minghao/Desktop/Spine_Segmentation/Case156',\n '/home/minghao/Desktop/Spine_Segmentation/Case191',\n '/home/minghao/Desktop/Spine_Segmentation/Case185',\n '/home/minghao/Desktop/Spine_Segmentation/Case137',\n '/home/minghao/Desktop/Spine_Segmentation/Case127',\n '/home/minghao/Desktop/Spine_Segmentation/Case203',\n '/home/minghao/Desktop/Spine_Segmentation/Case196',\n '/home/minghao/Desktop/Spine_Segmentation/Case13',\n '/home/minghao/Desktop/Spine_Segmentation/Case46',\n '/home/minghao/Desktop/Spine_Segmentation/Case69',\n '/home/minghao/Desktop/Spine_Segmentation/Case43',\n '/home/minghao/Desktop/Spine_Segmentation/Case188',\n '/home/minghao/Desktop/Spine_Segmentation/Case59',\n '/home/minghao/Desktop/Spine_Segmentation/Case173',\n '/home/minghao/Desktop/Spine_Segmentation/Case111',\n '/home/minghao/Desktop/Spine_Segmentation/Case26',\n '/home/minghao/Desktop/Spine_Segmentation/Case17',\n '/home/minghao/Desktop/Spine_Segmentation/Case57',\n '/home/minghao/Desktop/Spine_Segmentation/Case36',\n '/home/minghao/Desktop/Spine_Segmentation/Case123',\n '/home/minghao/Desktop/Spine_Segmentation/Case2',\n '/home/minghao/Desktop/Spine_Segmentation/Case120',\n '/home/minghao/Desktop/Spine_Segmentation/Case199',\n '/home/minghao/Desktop/Spine_Segmentation/Case180',\n '/home/minghao/Desktop/Spine_Segmentation/Case62',\n '/home/minghao/Desktop/Spine_Segmentation/Case172',\n '/home/minghao/Desktop/Spine_Segmentation/Case166',\n '/home/minghao/Desktop/Spine_Segmentation/Case103',\n '/home/minghao/Desktop/Spine_Segmentation/Case68',\n '/home/minghao/Desktop/Spine_Segmentation/Case53',\n '/home/minghao/Desktop/Spine_Segmentation/Case81',\n '/home/minghao/Desktop/Spine_Segmentation/Case72',\n '/home/minghao/Desktop/Spine_Segmentation/Case112',\n '/home/minghao/Desktop/Spine_Segmentation/Case149',\n '/home/minghao/Desktop/Spine_Segmentation/Case100',\n '/home/minghao/Desktop/Spine_Segmentation/Case160',\n '/home/minghao/Desktop/Spine_Segmentation/Case140',\n '/home/minghao/Desktop/Spine_Segmentation/Case101',\n '/home/minghao/Desktop/Spine_Segmentation/Case19',\n '/home/minghao/Desktop/Spine_Segmentation/Case170',\n '/home/minghao/Desktop/Spine_Segmentation/Case146',\n '/home/minghao/Desktop/Spine_Segmentation/Case29',\n '/home/minghao/Desktop/Spine_Segmentation/Case41',\n '/home/minghao/Desktop/Spine_Segmentation/Case155',\n '/home/minghao/Desktop/Spine_Segmentation/Case40',\n '/home/minghao/Desktop/Spine_Segmentation/Case25',\n '/home/minghao/Desktop/Spine_Segmentation/Case214',\n '/home/minghao/Desktop/Spine_Segmentation/Case48',\n '/home/minghao/Desktop/Spine_Segmentation/Case107',\n '/home/minghao/Desktop/Spine_Segmentation/Case163',\n '/home/minghao/Desktop/Spine_Segmentation/Case89',\n '/home/minghao/Desktop/Spine_Segmentation/Case56',\n '/home/minghao/Desktop/Spine_Segmentation/Case58',\n '/home/minghao/Desktop/Spine_Segmentation/Case52',\n '/home/minghao/Desktop/Spine_Segmentation/Case205',\n '/home/minghao/Desktop/Spine_Segmentation/Case153',\n '/home/minghao/Desktop/Spine_Segmentation/Case91',\n '/home/minghao/Desktop/Spine_Segmentation/Case67',\n '/home/minghao/Desktop/Spine_Segmentation/Case97',\n '/home/minghao/Desktop/Spine_Segmentation/Case9',\n '/home/minghao/Desktop/Spine_Segmentation/Case186',\n '/home/minghao/Desktop/Spine_Segmentation/Case152',\n '/home/minghao/Desktop/Spine_Segmentation/Case39',\n '/home/minghao/Desktop/Spine_Segmentation/Case204',\n '/home/minghao/Desktop/Spine_Segmentation/Case8',\n '/home/minghao/Desktop/Spine_Segmentation/Case139',\n '/home/minghao/Desktop/Spine_Segmentation/Case14',\n '/home/minghao/Desktop/Spine_Segmentation/Case200',\n '/home/minghao/Desktop/Spine_Segmentation/Case164',\n '/home/minghao/Desktop/Spine_Segmentation/Case154',\n '/home/minghao/Desktop/Spine_Segmentation/Case82']"
     },
     "execution_count": 8,
     "metadata": {},
     "output_type": "execute_result"
    }
   ],
   "source": [
    "list_case_dirs = [os.path.join(data_path, cases[i]) for i in range(len(cases))]\n",
    "list_case_dirs"
   ],
   "metadata": {
    "collapsed": false,
    "pycharm": {
     "name": "#%%\n"
    }
   }
  },
  {
   "cell_type": "code",
   "execution_count": 9,
   "outputs": [
    {
     "ename": "NameError",
     "evalue": "name 'landmark_extractor' is not defined",
     "output_type": "error",
     "traceback": [
      "\u001B[0;31m---------------------------------------------------------------------------\u001B[0m",
      "\u001B[0;31mNameError\u001B[0m                                 Traceback (most recent call last)",
      "\u001B[0;32m<ipython-input-9-bc16216fecbb>\u001B[0m in \u001B[0;36m<module>\u001B[0;34m\u001B[0m\n\u001B[1;32m      1\u001B[0m \u001B[0;32mfor\u001B[0m \u001B[0mcase_dir\u001B[0m \u001B[0;32min\u001B[0m \u001B[0mlist_case_dirs\u001B[0m\u001B[0;34m:\u001B[0m\u001B[0;34m\u001B[0m\u001B[0;34m\u001B[0m\u001B[0m\n\u001B[1;32m      2\u001B[0m     \u001B[0mlandmark\u001B[0m \u001B[0;34m=\u001B[0m \u001B[0mpd\u001B[0m\u001B[0;34m.\u001B[0m\u001B[0mread_csv\u001B[0m\u001B[0;34m(\u001B[0m\u001B[0mcase_dir\u001B[0m \u001B[0;34m+\u001B[0m \u001B[0;34m'/landmarks_512.csv'\u001B[0m\u001B[0;34m)\u001B[0m\u001B[0;34m\u001B[0m\u001B[0;34m\u001B[0m\u001B[0m\n\u001B[0;32m----> 3\u001B[0;31m     \u001B[0mlandmarks\u001B[0m \u001B[0;34m=\u001B[0m \u001B[0mlandmark_extractor\u001B[0m\u001B[0;34m(\u001B[0m\u001B[0mlandmark\u001B[0m\u001B[0;34m)\u001B[0m\u001B[0;34m\u001B[0m\u001B[0;34m\u001B[0m\u001B[0m\n\u001B[0m\u001B[1;32m      4\u001B[0m \u001B[0;34m\u001B[0m\u001B[0m\n\u001B[1;32m      5\u001B[0m \u001B[0;34m\u001B[0m\u001B[0m\n",
      "\u001B[0;31mNameError\u001B[0m: name 'landmark_extractor' is not defined"
     ]
    }
   ],
   "source": [
    "for case_dir in list_case_dirs:\n",
    "    landmark = pd.read_csv(case_dir + '/landmarks_512.csv')\n",
    "    landmarks = landmark_extractor(landmark)\n",
    "\n"
   ],
   "metadata": {
    "collapsed": false,
    "pycharm": {
     "name": "#%%\n"
    }
   }
  },
  {
   "cell_type": "code",
   "execution_count": null,
   "outputs": [],
   "source": [
    "'''impurity = []\n",
    "for case_dir in list_case_dirs:\n",
    "    Mask = sitk.ReadImage(case_dir + '/Mask_512.nii.gz' , sitk.sitkInt32)\n",
    "    Mask = sitk.GetArrayFromImage(Mask)\n",
    "\n",
    "    for lable in range(1,20):\n",
    "        check = np.where(Mask == lable)\n",
    "        if len(check[0]) in range(1,5):\n",
    "            impurity.append(case_dir.split('/')[-1] + '_' + str(lable))\n",
    "impurity'''"
   ],
   "metadata": {
    "collapsed": false,
    "pycharm": {
     "name": "#%%\n"
    }
   }
  }
 ],
 "metadata": {
  "kernelspec": {
   "display_name": "Python 3",
   "language": "python",
   "name": "python3"
  },
  "language_info": {
   "codemirror_mode": {
    "name": "ipython",
    "version": 2
   },
   "file_extension": ".py",
   "mimetype": "text/x-python",
   "name": "python",
   "nbconvert_exporter": "python",
   "pygments_lexer": "ipython2",
   "version": "2.7.6"
  }
 },
 "nbformat": 4,
 "nbformat_minor": 0
}